{
 "cells": [
  {
   "cell_type": "code",
   "execution_count": 24,
   "metadata": {},
   "outputs": [],
   "source": [
    "import pandas as pd"
   ]
  },
  {
   "cell_type": "code",
   "execution_count": 25,
   "metadata": {},
   "outputs": [],
   "source": [
    "## In alltrails directory: https://www.alltrails.com/directory/trails/A/1 \n",
    "## Grab urls to all the trails "
   ]
  },
  {
   "cell_type": "code",
   "execution_count": 135,
   "metadata": {},
   "outputs": [],
   "source": [
    "## First item in directory starts, within class \"directory-content\", ends with class \"directory-pages\"\n",
    "## each item starts with item tag \n",
    "## link in ahref tag \n",
    "\n",
    "## example: <a title=\"Agua Caliente, Sierra Caliente and Monument Peak\" \n",
    "## href=\"/trail/us/california/ed-r-levin-county-park-trail\""
   ]
  },
  {
   "cell_type": "code",
   "execution_count": 137,
   "metadata": {},
   "outputs": [],
   "source": [
    "## filter content to start after the directory-content tag and before the directory-pages tag\n",
    "## get filtered results begins with \"<a title=\"\"\n",
    "## ends with \"</li>\\n      <li>\\n\"\n",
    "## expression: (?<=title).*?(?=li>)"
   ]
  },
  {
   "cell_type": "code",
   "execution_count": 226,
   "metadata": {},
   "outputs": [],
   "source": [
    "## function to loop get the # of pages for each letter of the alphabet\n",
    "\n",
    "## input -- alphabet to get\n",
    "\n",
    "def getPages(letter):\n",
    "    \n",
    "    ## construct the url \n",
    "    url = \"https://www.alltrails.com/directory/trails/{}/1\".format(letter)\n",
    "    \n",
    "    ## make the request \n",
    "    r = requests.get(url)\n",
    "    text = r.text\n",
    "    \n",
    "    ## get the targeted text block \n",
    "    pages_text = text.split(sep =\"directory-pages\")[-1]\n",
    "    pages_text = pages_text.split(sep = \"#content\")[0]\n",
    "    \n",
    "    ## split by attributes and get results \n",
    "    page_numbers  = pages_text.split(\"a href\")[-1].split(\"\\\"\")[1][-1]\n",
    "    return(page_numbers)\n",
    "\n",
    "\n",
    "yo = getPages('X')"
   ]
  },
  {
   "cell_type": "code",
   "execution_count": 229,
   "metadata": {},
   "outputs": [],
   "source": [
    "## function to make request for each letter of the alphabet\n",
    "\n",
    "## input -- letter of the alphabet | number of pages for specific letter \n",
    "\n",
    "def getTrails(letter):\n",
    "    \n",
    "    ## initiate empty list \n",
    "    alphabet_list = []\n",
    "    \n",
    "    ## get the number of pages for the letter \n",
    "    max_pages = getPages(letter)\n",
    "    \n",
    "    ## loop through each specific page\n",
    "    counter = 0\n",
    "    \n",
    "    while counter < int(max_pages):\n",
    "        counter += 1 \n",
    "        \n",
    "        ## construct url \n",
    "        url = \"https://www.alltrails.com/directory/trails/{}/{}\".format(letter, counter)\n",
    "        r = requests.get(url)\n",
    "        text = r.text\n",
    "        \n",
    "        ## extract section of trails \n",
    "        text = text.split(sep =\"directory-content\")[-1]\n",
    "        text = text.split(sep = \"directory-pages\")[0]\n",
    "        \n",
    "        ## regex to find list of sections with trail info \n",
    "        trails_phase = re.findall(\"title(.*?)class\", string=text)\n",
    "        \n",
    "        ## loop through each secrion to obtain trail name and corresponding url \n",
    "        for value in trails_phase:\n",
    "            \n",
    "            ## split value by quotes \n",
    "            a_list = value.split(sep = \"href\")\n",
    "            if (len(a_list) == 2):\n",
    "                url = a_list[1]\n",
    "                trail = a_list[0]\n",
    "                alphabet_list.append([trail[2:], url[2:]])\n",
    "            else:\n",
    "                trail = a_list[0]\n",
    "                alphabet_list.append([trail[2:], \" \"])\n",
    "    ## return the list of trails for the corresponding alphabet        \n",
    "    return(alphabet_list)\n",
    "        "
   ]
  },
  {
   "cell_type": "code",
   "execution_count": 230,
   "metadata": {},
   "outputs": [
    {
     "name": "stdout",
     "output_type": "stream",
     "text": [
      "Finished letter A\n",
      "Finished letter B\n",
      "Finished letter C\n",
      "Finished letter D\n",
      "Finished letter E\n",
      "Finished letter F\n",
      "Finished letter G\n",
      "Finished letter H\n",
      "Finished letter I\n",
      "Finished letter J\n",
      "Finished letter K\n",
      "Finished letter L\n",
      "Finished letter M\n",
      "Finished letter N\n",
      "Finished letter O\n",
      "Finished letter P\n",
      "Finished letter Q\n",
      "Finished letter R\n",
      "Finished letter S\n",
      "Finished letter T\n",
      "Finished letter U\n",
      "Finished letter V\n",
      "Finished letter W\n",
      "Finished letter X\n",
      "Finished letter Y\n",
      "Finished letter Z\n"
     ]
    }
   ],
   "source": [
    "## initialize the scraper \n",
    "import string\n",
    "import pandas as pd \n",
    "import re\n",
    "import requests\n",
    "\n",
    "## initialize the final trails list \n",
    "alphabet_list = list(string.ascii_uppercase)\n",
    "## alphabet_list = 'C'\n",
    "final_trails_list = []\n",
    "\n",
    "## loop through each letter of alphabet \n",
    "for letter in alphabet_list: \n",
    "    letter_trail = getTrails(letter)\n",
    "    print(\"Finished letter {}\".format(letter))\n",
    "    final_trails_list = final_trails_list + letter_trail"
   ]
  },
  {
   "cell_type": "code",
   "execution_count": 231,
   "metadata": {},
   "outputs": [
    {
     "data": {
      "text/plain": [
       "70586"
      ]
     },
     "execution_count": 231,
     "metadata": {},
     "output_type": "execute_result"
    }
   ],
   "source": [
    "len(final_trails_list)"
   ]
  },
  {
   "cell_type": "code",
   "execution_count": 234,
   "metadata": {},
   "outputs": [
    {
     "data": {
      "text/html": [
       "<div>\n",
       "<style scoped>\n",
       "    .dataframe tbody tr th:only-of-type {\n",
       "        vertical-align: middle;\n",
       "    }\n",
       "\n",
       "    .dataframe tbody tr th {\n",
       "        vertical-align: top;\n",
       "    }\n",
       "\n",
       "    .dataframe thead th {\n",
       "        text-align: right;\n",
       "    }\n",
       "</style>\n",
       "<table border=\"1\" class=\"dataframe\">\n",
       "  <thead>\n",
       "    <tr style=\"text-align: right;\">\n",
       "      <th></th>\n",
       "      <th>name</th>\n",
       "      <th>url</th>\n",
       "    </tr>\n",
       "  </thead>\n",
       "  <tbody>\n",
       "    <tr>\n",
       "      <th>0</th>\n",
       "      <td>A and C Trails\"</td>\n",
       "      <td>/trail/us/virginia/freedom-park-trails\"</td>\n",
       "    </tr>\n",
       "    <tr>\n",
       "      <th>1</th>\n",
       "      <td>A Cabo de San Juan de Guia Cape\"</td>\n",
       "      <td>/trail/colombia/magdalena/a-cabo-de-san-juan-d...</td>\n",
       "    </tr>\n",
       "    <tr>\n",
       "      <th>2</th>\n",
       "      <td>A Coruña\"</td>\n",
       "      <td>/trail/spain/galicia/a-coruna\"</td>\n",
       "    </tr>\n",
       "    <tr>\n",
       "      <th>3</th>\n",
       "      <td>A Davis Trail\"</td>\n",
       "      <td>/trail/us/west-virginia/a-davis-trail\"</td>\n",
       "    </tr>\n",
       "    <tr>\n",
       "      <th>4</th>\n",
       "      <td>A el Peñón de Ronda desde los Quejigales\"</td>\n",
       "      <td>/trail/spain/andalusia/a-el-penon-de-ronda-des...</td>\n",
       "    </tr>\n",
       "  </tbody>\n",
       "</table>\n",
       "</div>"
      ],
      "text/plain": [
       "                                         name  \\\n",
       "0                            A and C Trails\"    \n",
       "1           A Cabo de San Juan de Guia Cape\"    \n",
       "2                                  A Coruña\"    \n",
       "3                             A Davis Trail\"    \n",
       "4  A el Peñón de Ronda desde los Quejigales\"    \n",
       "\n",
       "                                                 url  \n",
       "0           /trail/us/virginia/freedom-park-trails\"   \n",
       "1  /trail/colombia/magdalena/a-cabo-de-san-juan-d...  \n",
       "2                    /trail/spain/galicia/a-coruna\"   \n",
       "3            /trail/us/west-virginia/a-davis-trail\"   \n",
       "4  /trail/spain/andalusia/a-el-penon-de-ronda-des...  "
      ]
     },
     "execution_count": 234,
     "metadata": {},
     "output_type": "execute_result"
    }
   ],
   "source": [
    "trail_df = pd.DataFrame(final_trails_list, columns = [\"name\", \"url\"])\n",
    "trail_df.head()"
   ]
  },
  {
   "cell_type": "code",
   "execution_count": 235,
   "metadata": {},
   "outputs": [],
   "source": [
    "trail_df.to_csv(\"trails.csv\")"
   ]
  },
  {
   "cell_type": "code",
   "execution_count": null,
   "metadata": {},
   "outputs": [],
   "source": []
  }
 ],
 "metadata": {
  "kernelspec": {
   "display_name": "Python 3",
   "language": "python",
   "name": "python3"
  },
  "language_info": {
   "codemirror_mode": {
    "name": "ipython",
    "version": 3
   },
   "file_extension": ".py",
   "mimetype": "text/x-python",
   "name": "python",
   "nbconvert_exporter": "python",
   "pygments_lexer": "ipython3",
   "version": "3.6.7"
  }
 },
 "nbformat": 4,
 "nbformat_minor": 2
}
